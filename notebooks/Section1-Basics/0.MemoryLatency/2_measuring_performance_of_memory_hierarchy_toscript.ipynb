{
 "cells": [
  {
   "cell_type": "markdown",
   "metadata": {
    "collapsed": true,
    "slideshow": {
     "slide_type": "slide"
    }
   },
   "source": [
    "## measuring memory latency \n",
    "\n",
    "In this notebook we will investigate the distribution of latency times for different size arrays."
   ]
  },
  {
   "cell_type": "code",
   "execution_count": null,
   "metadata": {},
   "outputs": [],
   "source": [
    "pwd, = !pwd\n",
    "pwd"
   ]
  },
  {
   "cell_type": "code",
   "execution_count": 30,
   "metadata": {},
   "outputs": [
    {
     "name": "stdout",
     "output_type": "stream",
     "text": [
      "Writing random_poke.py\n"
     ]
    }
   ],
   "source": [
    "%%writefile random_poke.py\n",
    "from numpy import *\n",
    "import time\n",
    "from os.path import isfile,isdir\n",
    "from os import mkdir,chdir\n",
    "import os\n",
    "\n",
    "from lib.measureRandomAccess import measureRandomAccess\n",
    "#from lib.create_file import create_file,tee\n",
    "\n",
    "## Remember the path for home and  log directories\n",
    "home_base='/tmp/'\n",
    "log_root=home_base+'logs/'\n",
    "if not isdir(log_root):\n",
    "    mkdir(log_root)\n",
    "\n",
    "m_list=[int(10**i) for i in [1,3,6]]\n",
    "m_legend=['10B','1KB','1MB','1GB','10GB']\n",
    "L=len(m_list)\n",
    "k=10000 # number of pokes\n",
    "print('m_list=',m_list)\n",
    "\n",
    "TimeStamp=str(int(time.time()))\n",
    "log_dir=log_root+'/'+TimeStamp  # timestamp is used so that multiple runs can be done on the same computer.\n",
    "mkdir(log_dir)\n",
    "chdir(log_dir)\n",
    "\n",
    "_mean=zeros([2,L])   #0: using disk, 1: using memory\n",
    "_std=zeros([2,L])\n",
    "_block_no=zeros([L])\n",
    "_block_size=zeros([L])\n",
    "T=zeros([2,L,k])\n",
    "    \n",
    "def create_file(n,m,filename='DataBlock'):\n",
    "    \"\"\"Create a scratch file of a given size\n",
    "\n",
    "    :param n: size of block\n",
    "    :param m: number of blocks\n",
    "    :param filename: desired filename\n",
    "    :returns: time to allocate block of size n, time to write a file of size m*n\n",
    "    :rtype: tuple\n",
    "\n",
    "    \"\"\"\n",
    "    t1=time.time()\n",
    "    A=bytearray(n)\n",
    "    t2=time.time()\n",
    "    file=open(filename,'wb')\n",
    "    for i in range(m):\n",
    "        file.write(A)\n",
    "        if i % 100 == 0:\n",
    "            print('\\r',i,\",\", end=' ')\n",
    "    file.close()\n",
    "    t3=time.time()\n",
    "    tee('\\r              \\ncreating %d byte block: %f sec, writing %d blocks %f sec' % (n,t2-t1,m,t3-t2))\n",
    "    return (t2-t1,t3-t2)\n",
    "\n",
    "Random_pokes=[]\n",
    "Min_Block_size=1000000\n",
    "for m_i in range(len(m_list)):\n",
    "    \n",
    "    m=m_list[m_i]\n",
    "    blocks=int(m/Min_Block_size)\n",
    "    if blocks==0:\n",
    "        _block_size[m_i]=1\n",
    "        _block_no[m_i]=m\n",
    "    else:\n",
    "        _block_size[m_i]=Min_Block_size\n",
    "        _block_no[m_i]=blocks\n",
    "    (t_mem,t_disk) = create_file(int(_block_size[m_i]),int(_block_no[m_i]),filename='BlockData'+str(m))\n",
    "\n",
    "    (_mean[0,m_i],_std[0,m_i],T[0,m_i]) = measureRandomAccess(m,filename='BlockData'+str(m),k=k)\n",
    "    T[0,m_i]=sorted(T[0,m_i])\n",
    "    print('\\rFile pokes _mean='+str(_mean[0,m_i])+', file _std='+str(_std[0,m_i]))\n",
    "\n",
    "    (_mean[1,m_i],_std[1,m_i],T[1,m_i]) = measureRandomAccess(m,filename='',k=k)\n",
    "    T[1,m_i]=sorted(T[1,m_i])\n",
    "    print('\\rMemory pokes _mean='+str(_mean[1,m_i])+', Memory _std='+str(_std[1,m_i]))\n",
    "    \n",
    "    Random_pokes.append({'m_i':m_i,\n",
    "                        'm':m,\n",
    "                        'memory__mean': _mean[1,m_i],\n",
    "                        'memory__std': _std[1,m_i],\n",
    "                        'memory_largest': T[1,m_i][-1000:],\n",
    "                        'file__mean': _mean[0,m_i],\n",
    "                        'file__std': _std[0,m_i],\n",
    "                        'file_largest': T[0,m_i][-1000:]                \n",
    "                })\n",
    "print('='*50)\n",
    "\n",
    "stats = {'Random_pokes':Random_pokes}\n",
    "import pickle as pk\n",
    "with open('stats.pkl','wb') as stats:\n",
    "    pk.dump(Random_pokes,stats,protocol=pk.HIGHEST_PROTOCOL)\n",
    "\n",
    "\n",
    "import time\n",
    "import numpy as np\n",
    "Consec=[]\n",
    "Line='### Consecutive Memory writes:'\n",
    "print(Line); \n",
    "n=1000\n",
    "r=np.array(list(range(n)))\n",
    "Header=\"\"\"\n",
    "|   size (MB) | Average time per byte |\n",
    "| ---------: | --------------: | \"\"\"\n",
    "print(Header)\n",
    "for m in [1,1000,1000000]:\n",
    "    #print(m,end='')\n",
    "    t1=time.time()\n",
    "    A=np.repeat(r,m)\n",
    "    t2=time.time()\n",
    "    Consec.append((n,m,float(n*m)/1000000,(t2-t1)/float(n*m)))\n",
    "    print(\"| %6.3f | %4.2g |\" % (float(n*m)/1000000,(t2-t1)/float(n*m)))\n",
    "A=[];r=[]\n",
    "\n",
    "\n",
    "#read files and sum entries\n",
    "%cd /tmp/logs/\n",
    "!ls -lrt\n",
    "%cd 1584056487\n",
    "\n",
    "files=!ls Block*\n",
    "files\n",
    "\n",
    "from time import time\n",
    "for file in files:\n",
    "    t0 = time()\n",
    "    M=np.fromfile(file,dtype=np.byte,count=-1)\n",
    "    t1=time()\n",
    "    np.sum(M)\n",
    "    t2=time()\n",
    "    read_time= t1-t0\n",
    "    calc_time= t2-t1\n",
    "    L=max(1,M.shape[0])\n",
    "    print('%20s %10d read time=%5.3f per byte=%3.1g\\t sum time=%5.3f per byte=%3.1g'%(file,L,read_time,read_time/L,calc_time,calc_time/L))\n"
   ]
  },
  {
   "cell_type": "markdown",
   "metadata": {
    "slideshow": {
     "slide_type": "slide"
    }
   },
   "source": [
    "### Specify which OS you are using\n",
    "Uncomment the line corresponding to your OS. Comment all of the rest."
   ]
  },
  {
   "cell_type": "code",
   "execution_count": 12,
   "metadata": {
    "ExecuteTime": {
     "end_time": "2018-04-09T00:52:55.301703Z",
     "start_time": "2018-04-09T00:52:55.294929Z"
    },
    "slideshow": {
     "slide_type": "slide"
    }
   },
   "outputs": [],
   "source": [
    "brand_name = \"brand: Macbook\"\n",
    "#brand_name = \"brand: Linux\"\n",
    "#brand_name = \"brand: Windows\""
   ]
  },
  {
   "cell_type": "markdown",
   "metadata": {
    "slideshow": {
     "slide_type": "slide"
    }
   },
   "source": [
    "### For Mac users\n",
    "\n",
    "The next cell needs to be run only by Mac OS users. If run on other OS platforms, it will throw error. "
   ]
  },
  {
   "cell_type": "code",
   "execution_count": 13,
   "metadata": {
    "ExecuteTime": {
     "end_time": "2018-04-09T00:52:55.362208Z",
     "start_time": "2018-04-09T00:52:55.304412Z"
    },
    "slideshow": {
     "slide_type": "slide"
    }
   },
   "outputs": [],
   "source": [
    "if brand_name== \"brand: Macbook\":\n",
    "    # To get all available information use !sysctl -a\n",
    "    os_info = !sysctl kernel.osrelease kernel.osrevision kernel.ostype kernel.osversion\n",
    "    cpu_info = !sysctl machdep.cpu.brand_string machdep.cpu.cache.L2_associativity machdep.cpu.cache.linesize machdep.cpu.cache.size machdep.cpu.core_count\n",
    "    cache_info = !sysctl kern.procname hw.memsize hw.cpufamily hw.activecpu hw.cachelinesize hw.cpufrequency hw.l1dcachesize hw.l1icachesize hw.l2cachesize hw.l3cachesize hw.cputype "
   ]
  },
  {
   "cell_type": "code",
   "execution_count": 15,
   "metadata": {},
   "outputs": [
    {
     "data": {
      "text/plain": [
       "['machdep.cpu.brand_string: Intel(R) Core(TM) i7-4870HQ CPU @ 2.50GHz',\n",
       " 'machdep.cpu.cache.L2_associativity: 8',\n",
       " 'machdep.cpu.cache.linesize: 64',\n",
       " 'machdep.cpu.cache.size: 256',\n",
       " 'machdep.cpu.core_count: 4']"
      ]
     },
     "execution_count": 15,
     "metadata": {},
     "output_type": "execute_result"
    }
   ],
   "source": [
    "cpu_info"
   ]
  },
  {
   "cell_type": "markdown",
   "metadata": {
    "slideshow": {
     "slide_type": "slide"
    }
   },
   "source": [
    "### For Linux OS users"
   ]
  },
  {
   "cell_type": "code",
   "execution_count": 17,
   "metadata": {},
   "outputs": [],
   "source": [
    "import os\n",
    "def run(command):\n",
    "    stream = os.popen(command)\n",
    "    output = stream.read()\n",
    "    return output"
   ]
  },
  {
   "cell_type": "markdown",
   "metadata": {},
   "source": [
    "### Pricing\n",
    "\n",
    "https://aws.amazon.com/ec2/pricing/on-demand/\n",
    "\n",
    "https://aws.amazon.com/ec2/spot/pricing/"
   ]
  },
  {
   "cell_type": "code",
   "execution_count": 20,
   "metadata": {},
   "outputs": [
    {
     "name": "stdout",
     "output_type": "stream",
     "text": [
      "machdep.cpu.brand_string: Intel(R) Core(TM) i7-4870HQ CPU @ 2.50GHz\n",
      "machdep.cpu.cache.L2_associativity: 8\n",
      "machdep.cpu.cache.linesize: 64\n",
      "machdep.cpu.cache.size: 256\n",
      "machdep.cpu.core_count: 4\n",
      "\n"
     ]
    }
   ],
   "source": [
    "commands=[\n",
    "    (\"os_info\",\"sysctl kernel.ostype kernel.osrelease\"),\n",
    "    (\"os_version\",\"lsb_release -r\"),\n",
    "    (\"memory_size\",\"cat /proc/meminfo | grep 'MemTotal'\"),\n",
    "\n",
    "    cache_L1i = !lscpu | grep 'L1i'\n",
    "    cache_L1d = !lscpu | grep 'L1d'\n",
    "    cache_L2 = !lscpu | grep 'L2'\n",
    "    cache_L3 = !lscpu | grep 'L3'\n",
    "    cache_info = cache_L1i + cache_L1d + cache_L2 + cache_L3\n",
    "\n",
    "    cpu_type = !lscpu | grep 'CPU family'\n",
    "    cpu_brand = !cat /proc/cpuinfo | grep -m 1 'model name'\n",
    "    cpu_frequency = !lscpu | grep 'CPU MHz'\n",
    "    cpu_core_count = !lscpu | grep 'CPU(s)'\n",
    "    cpu_info = cpu_type + cpu_brand + cpu_frequency + cpu_core_count\n",
    "\"\"\"\n",
    "\n"
   ]
  },
  {
   "cell_type": "code",
   "execution_count": null,
   "metadata": {
    "ExecuteTime": {
     "end_time": "2018-04-09T00:52:55.384325Z",
     "start_time": "2018-04-09T00:52:55.365010Z"
    },
    "slideshow": {
     "slide_type": "slide"
    }
   },
   "outputs": [],
   "source": [
    "if brand_name == \"brand: Linux\":\n",
    "    os_info = !sysctl kernel.ostype kernel.osrelease \n",
    "    os_version = !lsb_release -r\n",
    "    memory_size = !cat /proc/meminfo | grep 'MemTotal'\n",
    "    os_info += os_version + memory_size\n",
    "\n",
    "    cache_L1i = !lscpu | grep 'L1i'\n",
    "    cache_L1d = !lscpu | grep 'L1d'\n",
    "    cache_L2 = !lscpu | grep 'L2'\n",
    "    cache_L3 = !lscpu | grep 'L3'\n",
    "    cache_info = cache_L1i + cache_L1d + cache_L2 + cache_L3\n",
    "\n",
    "    cpu_type = !lscpu | grep 'CPU family'\n",
    "    cpu_brand = !cat /proc/cpuinfo | grep -m 1 'model name'\n",
    "    cpu_frequency = !lscpu | grep 'CPU MHz'\n",
    "    cpu_core_count = !lscpu | grep 'CPU(s)'\n",
    "    cpu_info = cpu_type + cpu_brand + cpu_frequency + cpu_core_count"
   ]
  },
  {
   "cell_type": "markdown",
   "metadata": {
    "slideshow": {
     "slide_type": "slide"
    }
   },
   "source": [
    "###  For Windows users"
   ]
  },
  {
   "cell_type": "code",
   "execution_count": null,
   "metadata": {
    "ExecuteTime": {
     "end_time": "2018-04-09T00:52:55.399171Z",
     "start_time": "2018-04-09T00:52:55.386704Z"
    },
    "slideshow": {
     "slide_type": "slide"
    }
   },
   "outputs": [],
   "source": [
    "if brand_name ==\"brand: Windows\":\n",
    "    os_release  = !ver\n",
    "    os_type     = !WMIC CPU get  SystemCreationClassName\n",
    "    memory      = !WMIC ComputerSystem get TotalPhysicalMemory\n",
    "    os_info     = os_release + os_type\n",
    "\n",
    "    cpu_core_count  = !WMIC CPU get NumberOfCores\n",
    "    cpu_speed       = !WMIC CPU get CurrentClockSpeed\n",
    "    cpu_model_name  = !WMIC CPU get name\n",
    "    cpu_info        = cpu_core_count + cpu_speed + cpu_model_name\n",
    "\n",
    "    l2cachesize = !WMIC CPU get L2CacheSize\n",
    "    l3cachesize = !WMIC CPU get L3CacheSize\n",
    "    cache_info  = l2cachesize + l3cachesize"
   ]
  },
  {
   "cell_type": "code",
   "execution_count": null,
   "metadata": {
    "ExecuteTime": {
     "end_time": "2018-04-09T00:52:55.406590Z",
     "start_time": "2018-04-09T00:52:55.401537Z"
    },
    "slideshow": {
     "slide_type": "slide"
    }
   },
   "outputs": [],
   "source": [
    "# Print collected information\n",
    "description=[brand_name] + os_info + cache_info + cpu_info\n",
    "print(\"Main Harware Parameters:\\n\")\n",
    "print('\\n'.join(description))"
   ]
  },
  {
   "cell_type": "markdown",
   "metadata": {
    "slideshow": {
     "slide_type": "slide"
    }
   },
   "source": [
    "### Summary of  Macbook Pro hardware parameters\n",
    "*   Intel four cores\n",
    "* Clock Rate: `2.50GHz` (0.4ns per clock cycle)\n",
    "<img alt=\"\" src=\"Figures/MacBookProMemorySizes.png\" style=\"width:500px\" />"
   ]
  },
  {
   "cell_type": "code",
   "execution_count": null,
   "metadata": {
    "ExecuteTime": {
     "end_time": "2018-04-09T00:52:55.418293Z",
     "start_time": "2018-04-09T00:52:55.409222Z"
    },
    "slideshow": {
     "slide_type": "skip"
    }
   },
   "outputs": [],
   "source": [
    "# Writing all necesarry information int oa pickle file.\n",
    "import pickle\n",
    "with open(home_base+'/memory_report.pkl','wb') as pickle_file:\n",
    "    pickle.dump({'description':description,\n",
    "                'Consec':Consec,\n",
    "                'Random_pokes':Random_pokes},\n",
    "               pickle_file)"
   ]
  },
  {
   "cell_type": "markdown",
   "metadata": {
    "slideshow": {
     "slide_type": "slide"
    }
   },
   "source": [
    "## Observations"
   ]
  },
  {
   "cell_type": "markdown",
   "metadata": {
    "slideshow": {
     "slide_type": "fragment"
    }
   },
   "source": [
    "* making measurements in the wild allows you to measure the performance of your hardware with your software.\n",
    "* Measuring in the wild you discover unexpected glitches: \n",
    "  * timer resolution is 1$\\mu$sec\n",
    "  * once every ~10,000 of a zero-time poke there is a 10^{-5}$ delay. Maybe a context switch?"
   ]
  },
  {
   "cell_type": "markdown",
   "metadata": {
    "slideshow": {
     "slide_type": "subslide"
    }
   },
   "source": [
    "* Latencies typically have long tails - Use loglog graphs."
   ]
  },
  {
   "cell_type": "markdown",
   "metadata": {
    "slideshow": {
     "slide_type": "fragment"
    }
   },
   "source": [
    "* Memory latency varies from $10^{-9}$sec to $10^{-6}$sec depending on access pattern."
   ]
  },
  {
   "cell_type": "markdown",
   "metadata": {
    "slideshow": {
     "slide_type": "fragment"
    }
   },
   "source": [
    "* SSD latency for random access varies from $10^{-5}$sec to $10^{-1}$sec."
   ]
  },
  {
   "cell_type": "markdown",
   "metadata": {
    "slideshow": {
     "slide_type": "subslide"
    }
   },
   "source": [
    "* When reading or writing large blocks, we care about **throughput** or **byte-rate** not **latency**"
   ]
  },
  {
   "cell_type": "markdown",
   "metadata": {
    "slideshow": {
     "slide_type": "fragment"
    }
   },
   "source": [
    "* Typical throughputs:  **Memory:** 100MB/sec   **SSD:** 1GB/sec   **Disk:** (fill in)"
   ]
  },
  {
   "cell_type": "markdown",
   "metadata": {
    "slideshow": {
     "slide_type": "subslide"
    }
   },
   "source": [
    "### Impact on Big Data Analytics"
   ]
  },
  {
   "cell_type": "markdown",
   "metadata": {
    "slideshow": {
     "slide_type": "fragment"
    }
   },
   "source": [
    "* Clock rate is stuck at around 3GHz, and is likely to be stuck there for the forseeable future."
   ]
  },
  {
   "cell_type": "markdown",
   "metadata": {
    "slideshow": {
     "slide_type": "fragment"
    }
   },
   "source": [
    "* **Faster** computers / disks / networks are **expensive** "
   ]
  },
  {
   "cell_type": "markdown",
   "metadata": {},
   "source": [
    "* **focus on data access: ** The main bottleneck on big data computation is moving data around, **NOT** calculation."
   ]
  },
  {
   "cell_type": "markdown",
   "metadata": {
    "slideshow": {
     "slide_type": "subslide"
    }
   },
   "source": [
    "* The cost-effective solution is often a cluster of many cheap computers, each with many cores and break up the data so that each computer has a small fraction of the data."
   ]
  },
  {
   "cell_type": "markdown",
   "metadata": {
    "slideshow": {
     "slide_type": "fragment"
    }
   },
   "source": [
    "* Data-Centers and the \"Cloud\""
   ]
  },
  {
   "cell_type": "markdown",
   "metadata": {
    "slideshow": {
     "slide_type": "fragment"
    }
   },
   "source": [
    "* I invite you to use this notebook on your computer to get a better understanding of its memory access latency."
   ]
  },
  {
   "cell_type": "markdown",
   "metadata": {
    "slideshow": {
     "slide_type": "subslide"
    }
   },
   "source": [
    "* If you are interest in way to make more accurate measurements of latency, try notebook 3."
   ]
  },
  {
   "cell_type": "markdown",
   "metadata": {},
   "source": [
    "* See you next time."
   ]
  },
  {
   "cell_type": "markdown",
   "metadata": {
    "slideshow": {
     "slide_type": "skip"
    }
   },
   "source": [
    "## Clean-Up\n",
    "This notebook generates large logs that can be deleted.\n",
    "\n",
    "A summary of the results is placed in the file `memory_report.pkl`"
   ]
  },
  {
   "cell_type": "code",
   "execution_count": null,
   "metadata": {
    "ExecuteTime": {
     "end_time": "2018-04-09T00:52:55.581487Z",
     "start_time": "2018-04-09T00:52:55.420505Z"
    },
    "slideshow": {
     "slide_type": "skip"
    }
   },
   "outputs": [],
   "source": [
    "%cd $home_base\n",
    "\n",
    "!rm -rf logs"
   ]
  }
 ],
 "metadata": {
  "anaconda-cloud": {},
  "celltoolbar": "Slideshow",
  "hide_input": false,
  "kernelspec": {
   "display_name": "Python 3",
   "language": "python",
   "name": "python3"
  },
  "language_info": {
   "codemirror_mode": {
    "name": "ipython",
    "version": 3
   },
   "file_extension": ".py",
   "mimetype": "text/x-python",
   "name": "python",
   "nbconvert_exporter": "python",
   "pygments_lexer": "ipython3",
   "version": "3.7.4"
  },
  "toc": {
   "base_numbering": 1,
   "nav_menu": {
    "height": "82px",
    "width": "252px"
   },
   "number_sections": true,
   "sideBar": true,
   "skip_h1_title": false,
   "title_cell": "Table of Contents",
   "title_sidebar": "Contents",
   "toc_cell": false,
   "toc_position": {
    "height": "597px",
    "left": "0px",
    "right": "1204px",
    "top": "106px",
    "width": "251px"
   },
   "toc_section_display": "block",
   "toc_window_display": false
  }
 },
 "nbformat": 4,
 "nbformat_minor": 2
}
