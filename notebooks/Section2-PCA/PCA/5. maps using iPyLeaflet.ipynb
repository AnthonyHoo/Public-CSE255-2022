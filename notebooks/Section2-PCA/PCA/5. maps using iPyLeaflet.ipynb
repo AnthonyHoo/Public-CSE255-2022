{
 "cells": [
  {
   "cell_type": "markdown",
   "metadata": {},
   "source": [
    "##  Visualizing coefficients on map"
   ]
  },
  {
   "cell_type": "code",
   "execution_count": null,
   "metadata": {},
   "outputs": [],
   "source": [
    "state='NY'\n",
    "meas='SNWD'"
   ]
  },
  {
   "cell_type": "code",
   "execution_count": 2,
   "metadata": {},
   "outputs": [],
   "source": [
    "#m=Map(zoom=1)\n",
    "#m"
   ]
  },
  {
   "cell_type": "markdown",
   "metadata": {
    "slideshow": {
     "slide_type": "skip"
    }
   },
   "source": [
    "### Load the required libraries"
   ]
  },
  {
   "cell_type": "code",
   "execution_count": 3,
   "metadata": {
    "ExecuteTime": {
     "end_time": "2018-04-26T15:17:50.089027Z",
     "start_time": "2018-04-26T15:17:49.668188Z"
    },
    "slideshow": {
     "slide_type": "skip"
    }
   },
   "outputs": [],
   "source": [
    "import pandas as pd\n",
    "import numpy as np\n",
    "import sklearn as sk\n",
    "import urllib\n",
    "import math\n",
    "\n",
    "import numpy as np\n",
    "from lib.numpy_pack import packArray,unpackArray\n",
    "from lib.spark_PCA import computeCov\n",
    "from lib.computeStatistics import *\n",
    "\n",
    "from pickle import dump,load\n"
   ]
  },
  {
   "cell_type": "code",
   "execution_count": 4,
   "metadata": {},
   "outputs": [],
   "source": [
    "#sc.stop()"
   ]
  },
  {
   "cell_type": "code",
   "execution_count": 5,
   "metadata": {},
   "outputs": [
    {
     "name": "stdout",
     "output_type": "stream",
     "text": [
      "172.17.0.2\n",
      "sparkContext= <SparkContext master=local[*] appName=pyspark-shell>\n",
      "\n"
     ]
    },
    {
     "name": "stderr",
     "output_type": "stream",
     "text": [
      "/usr/local/spark/python/pyspark/sql/context.py:77: FutureWarning: Deprecated in 3.0.0. Use SparkSession.builder.getOrCreate() instead.\n",
      "  warnings.warn(\n"
     ]
    },
    {
     "name": "stdout",
     "output_type": "stream",
     "text": [
      "    pandas as    pd \tversion=1.4.2 \trequired version>=0.19.2\n",
      "\n",
      "     numpy as    np \tversion=1.21.6 \trequired version>=1.12.0\n",
      "\n",
      "   sklearn as    sk \tversion=1.0.2 \trequired version>=0.18.1\n",
      "\n",
      "module urllib has no version\n",
      "   pyspark as pyspark \tversion=3.2.1 \trequired version>=2.1.0\n",
      "\n",
      "ipywidgets as ipywidgets \tversion=7.7.0 \trequired version>=6.0.0\n",
      "\n",
      "version of ipwidgets= 7.7.0\n",
      "measurements is a Dataframe (and table) with 12720632 records\n",
      "stations is a Dataframe (and table) with 119503 records\n",
      "weather is a Dataframe (and table) which is a join of measurements and stations with 12720632 records\n",
      "CPU times: user 464 ms, sys: 50.4 ms, total: 514 ms\n",
      "Wall time: 8.19 s\n"
     ]
    }
   ],
   "source": [
    "%%time\n",
    "%run lib/startup.py"
   ]
  },
  {
   "cell_type": "code",
   "execution_count": 6,
   "metadata": {},
   "outputs": [
    {
     "name": "stdout",
     "output_type": "stream",
     "text": [
      "\n",
      "SELECT *\n",
      "FROM weather\n",
      "WHERE state=\"NY\" and  measurement='SNWD'\n",
      "\n",
      "number of rows in result= 27002\n",
      "+-----------+-----------+----+--------------------+--------+---------+---------+----------+----------------+-----+-------------+\n",
      "|    Station|Measurement|Year|              Values|latitude|longitude|elevation|dist2coast|            name|state|      country|\n",
      "+-----------+-----------+----+--------------------+--------+---------+---------+----------+----------------+-----+-------------+\n",
      "|US1NYDT0024|       SNWD|2022|[00 00 00 00 00 0...| 42.0097| -73.8642|     65.8|    108.25|RED HOOK 1.2 NNE|   NY|United States|\n",
      "+-----------+-----------+----+--------------------+--------+---------+---------+----------+----------------+-----+-------------+\n",
      "only showing top 1 row\n",
      "\n",
      "CPU times: user 3.27 ms, sys: 168 µs, total: 3.44 ms\n",
      "Wall time: 1.42 s\n"
     ]
    }
   ],
   "source": [
    "%%time\n",
    "ms=[meas]\n",
    "cms='or\\n'.join(['Measurement=\"%s\" '%(m) for m in ms])\n",
    "\n",
    "##  read all data for state\n",
    "Query=\"\"\"\n",
    "SELECT *\n",
    "FROM weather\n",
    "WHERE state=\"%s\" and  measurement='%s'\n",
    "\"\"\"%(state,meas)\n",
    "print(Query)\n",
    "\n",
    "weather_df=sqlContext.sql(Query) #weather_df contains the information for the state\n",
    "print('number of rows in result=',weather_df.count())\n",
    "weather_df.show(1)"
   ]
  },
  {
   "cell_type": "code",
   "execution_count": 7,
   "metadata": {},
   "outputs": [
    {
     "name": "stdout",
     "output_type": "stream",
     "text": [
      "/datasets/cs255-sp22-a00-public//weather-statistics/NY-SNWD.pkl\r\n"
     ]
    }
   ],
   "source": [
    "pkl_filename=parquet_root+'/weather-statistics/'+state+'-'+','.join(ms)+'.pkl'\n",
    "!ls $pkl_filename "
   ]
  },
  {
   "cell_type": "code",
   "execution_count": 8,
   "metadata": {},
   "outputs": [
    {
     "name": "stdout",
     "output_type": "stream",
     "text": [
      "precomputed statistics file exists\n"
     ]
    },
    {
     "data": {
      "text/plain": [
       "dict_keys(['SNWD'])"
      ]
     },
     "execution_count": 8,
     "metadata": {},
     "output_type": "execute_result"
    }
   ],
   "source": [
    "stat=load_or_compute_statistics(pkl_filename,weather_df,ms)\n",
    "STAT=stat\n",
    "STAT.keys()"
   ]
  },
  {
   "cell_type": "markdown",
   "metadata": {},
   "source": [
    "### compute spectral decomposition"
   ]
  },
  {
   "cell_type": "code",
   "execution_count": 9,
   "metadata": {},
   "outputs": [
    {
     "name": "stdout",
     "output_type": "stream",
     "text": [
      "CPU times: user 11.5 ms, sys: 6.69 ms, total: 18.2 ms\n",
      "Wall time: 760 ms\n"
     ]
    }
   ],
   "source": [
    "%%time\n",
    "#get mean and eigenvectors for measurement m\n",
    "EigVec=STAT[meas]['eigvec']\n",
    "Mean=STAT[meas]['Mean']\n",
    "EigVec.shape\n",
    "\n",
    "k=5\n",
    "decomposition=decompose_dataframe(sqlContext,weather_df,EigVec[:,:k],Mean).cache() # Make it possible to generate only first k coefficients."
   ]
  },
  {
   "cell_type": "code",
   "execution_count": 10,
   "metadata": {
    "scrolled": false
   },
   "outputs": [
    {
     "name": "stdout",
     "output_type": "stream",
     "text": [
      "+-----------+-----------+----+--------------------+--------+---------+---------+----------+----------------+-----+-------------+---------+-----------------+------------------+-------------------+-------------------+------------------+-------------------+-----------------+-------------------+------------------+-----------------+-----------------+\n",
      "|    Station|Measurement|Year|              Values|latitude|longitude|elevation|dist2coast|            name|state|      country|total_var|         res_mean|             res_1|            coeff_1|              res_2|           coeff_2|              res_3|          coeff_3|              res_4|           coeff_4|            res_5|          coeff_5|\n",
      "+-----------+-----------+----+--------------------+--------+---------+---------+----------+----------------+-----+-------------+---------+-----------------+------------------+-------------------+-------------------+------------------+-------------------+-----------------+-------------------+------------------+-----------------+-----------------+\n",
      "|US1NYDT0024|       SNWD|2022|[00 00 00 00 00 0...| 42.0097| -73.8642|     65.8|    108.25|RED HOOK 1.2 NNE|   NY|United States| 138877.0|9.073493242448631|0.0939002108318909|-1005.6747889586908|0.08867436760857136|-32.22031216499282|0.09299383468701941|160.2112212660315|0.09086550118900572|-45.62730733972423|0.090925299356828|84.79524548189299|\n",
      "+-----------+-----------+----+--------------------+--------+---------+---------+----------+----------------+-----+-------------+---------+-----------------+------------------+-------------------+-------------------+------------------+-------------------+-----------------+-------------------+------------------+-----------------+-----------------+\n",
      "only showing top 1 row\n",
      "\n",
      "CPU times: user 12.8 ms, sys: 1.59 ms, total: 14.4 ms\n",
      "Wall time: 6.89 s\n"
     ]
    },
    {
     "data": {
      "text/plain": [
       "27002"
      ]
     },
     "execution_count": 10,
     "metadata": {},
     "output_type": "execute_result"
    }
   ],
   "source": [
    "%%time\n",
    "decomposition.show(1)\n",
    "decomposition.count()"
   ]
  },
  {
   "cell_type": "code",
   "execution_count": 17,
   "metadata": {},
   "outputs": [
    {
     "name": "stdout",
     "output_type": "stream",
     "text": [
      "saving to /datasets/cs255-sp22-a00-public/weather-statistics/NY-SNWD.parquet\n"
     ]
    }
   ],
   "source": [
    "## To save the result you need to give a directory for which you have write permissions\n",
    "decomp_parquet=parquet_root+'weather-statistics/'+state+'-'+meas+'.parquet'\n",
    "print('saving to',decomp_parquet)\n",
    "!rm -rf $decomp_parquet\n",
    "decomposition.write.parquet(decomp_parquet)"
   ]
  },
  {
   "cell_type": "markdown",
   "metadata": {
    "slideshow": {
     "slide_type": "subslide"
    }
   },
   "source": [
    "## Compute the count and average of `coeff_i` for each station."
   ]
  },
  {
   "cell_type": "code",
   "execution_count": null,
   "metadata": {
    "ExecuteTime": {
     "end_time": "2018-04-26T15:23:37.910760Z",
     "start_time": "2018-04-26T15:23:34.431577Z"
    },
    "hide_input": true,
    "scrolled": true,
    "slideshow": {
     "slide_type": "fragment"
    }
   },
   "outputs": [],
   "source": [
    "feature='coeff_1'\n",
    "df1 = decomposition.select('station','latitude','longitude','elevation','dist2coast',feature)\n",
    "df1.show(2)"
   ]
  },
  {
   "cell_type": "code",
   "execution_count": null,
   "metadata": {
    "ExecuteTime": {
     "end_time": "2018-04-26T15:23:37.910760Z",
     "start_time": "2018-04-26T15:23:34.431577Z"
    },
    "hide_input": true,
    "scrolled": true,
    "slideshow": {
     "slide_type": "fragment"
    }
   },
   "outputs": [],
   "source": [
    "df2=df1.groupby(['station','latitude','longitude','elevation','dist2coast'])\\\n",
    ".agg({\"station\": \"count\", feature: \"mean\"})\n",
    "#df2=df1.groupby(['station']).agg({\"station\": \"count\", feature: \"mean\"})\n",
    "pdf=df2.toPandas()\n",
    "pdf.sort_values(by=['station'],inplace=True)\n",
    "pdf.head(5)"
   ]
  },
  {
   "cell_type": "code",
   "execution_count": null,
   "metadata": {
    "ExecuteTime": {
     "end_time": "2018-04-26T15:23:38.797161Z",
     "start_time": "2018-04-26T15:23:38.791095Z"
    },
    "slideshow": {
     "slide_type": "skip"
    }
   },
   "outputs": [],
   "source": [
    "# Find long/lat bounding box\n",
    "max_long=pdf['longitude'].max()\n",
    "min_long=pdf['longitude'].min()\n",
    "max_lat=pdf['latitude'].max()\n",
    "min_lat=pdf['latitude'].min()\n"
   ]
  },
  {
   "cell_type": "code",
   "execution_count": null,
   "metadata": {
    "ExecuteTime": {
     "end_time": "2018-04-26T15:23:39.433574Z",
     "start_time": "2018-04-26T15:23:39.422373Z"
    },
    "slideshow": {
     "slide_type": "skip"
    }
   },
   "outputs": [],
   "source": [
    "#define a mapping from the range of the value to hex colors.\n",
    "from matplotlib.colors import rgb2hex\n",
    "_avg='avg(%s)'%feature\n",
    "_min=pdf[_avg].min()\n",
    "_max=pdf[_avg].max()\n",
    "_min,_max"
   ]
  },
  {
   "cell_type": "code",
   "execution_count": null,
   "metadata": {
    "ExecuteTime": {
     "end_time": "2018-04-26T15:23:39.433574Z",
     "start_time": "2018-04-26T15:23:39.422373Z"
    },
    "slideshow": {
     "slide_type": "skip"
    }
   },
   "outputs": [],
   "source": [
    "import pylab as plt\n",
    "cmap=plt.get_cmap('jet')\n",
    "def get_color(val):\n",
    "    x=(val-_min)/(_max-_min)\n",
    "    return(rgb2hex(cmap(x)[:3]))"
   ]
  },
  {
   "cell_type": "markdown",
   "metadata": {
    "slideshow": {
     "slide_type": "slide"
    }
   },
   "source": [
    "## Map\n",
    "* Each circle is centered at a station.  \n",
    "* The area of the circle corresponds to the number of years SNWD was recorded at the station.  \n",
    "* The color fill of the circle corresponds to the value of `avg(coeff_1)` defined by color-bar."
   ]
  },
  {
   "cell_type": "code",
   "execution_count": null,
   "metadata": {
    "ExecuteTime": {
     "end_time": "2018-04-26T15:17:49.660935Z",
     "start_time": "2018-04-26T15:17:49.331615Z"
    },
    "slideshow": {
     "slide_type": "skip"
    }
   },
   "outputs": [],
   "source": [
    "import ipyleaflet\n",
    "#%pylab inline\n",
    "\n",
    "from ipyleaflet import (\n",
    "    Map,\n",
    "    Marker,\n",
    "    TileLayer, ImageOverlay,\n",
    "    Polyline, Polygon, Rectangle, Circle, CircleMarker,\n",
    "    GeoJSON,\n",
    "    DrawControl\n",
    ")"
   ]
  },
  {
   "cell_type": "code",
   "execution_count": null,
   "metadata": {
    "ExecuteTime": {
     "end_time": "2018-04-26T15:23:42.653309Z",
     "start_time": "2018-04-26T15:23:42.439703Z"
    },
    "hide_input": false,
    "slideshow": {
     "slide_type": "fragment"
    }
   },
   "outputs": [],
   "source": [
    "#def color_bar(_min,_max)\n",
    "import pylab as plt\n",
    "from matplotlib.pyplot import xticks,yticks\n",
    "#figure(figsize=[10,1])\n",
    "ax = plt.subplot(111)\n",
    "vals=cmap(np.arange(0,1,0.005))[:,:3]\n",
    "vals3=np.stack([vals]*10)\n",
    "vals3.shape\n",
    "ax.imshow(vals3);\n",
    "\n",
    "midpoint=200.*-_min/(_max-_min)\n",
    "xticks((0,midpoint,200),[\"%4.1f\"%v for v in (_min,0.,_max)])\n",
    "yticks(());\n",
    "\n",
    "\n",
    "center = [(min_lat+max_lat)/2, (min_long+max_long)/2]\n",
    "\n",
    "\n",
    "zoom = 6\n",
    "\n",
    "m = Map(default_tiles=TileLayer(opacity=1.0), center=center, zoom=zoom)\n",
    "# basemap=basemaps.OpenTopoMap,\n",
    "\n",
    "r = Rectangle(bounds=[[min_lat,min_long],[max_lat,max_long]], weight=5, fill_opacity=0.0)\n",
    "m += r\n",
    "\n",
    "lat_margin=(max_lat-min_lat)/4\n",
    "long_margin=(max_long-min_long)/4\n",
    "circles = []\n",
    "for index,row in pdf.iterrows():\n",
    "    _lat=row['latitude']\n",
    "    _long=row['longitude']\n",
    "    _count=row['count(station)']\n",
    "    _coef=row[_avg]\n",
    "    # taking sqrt of count so that the  area of the circle corresponds to the count\n",
    "    c = Circle(location=(_lat,_long), radius=int(1200*np.sqrt(_count+0.0)), weight=1,\n",
    "            color='#F00', opacity=0.8, fill_opacity=0.4,\n",
    "            fill_color=get_color(_coef))\n",
    "    circles.append(c)\n",
    "    m.add_layer(c)\n",
    "m    "
   ]
  },
  {
   "cell_type": "markdown",
   "metadata": {
    "slideshow": {
     "slide_type": "subslide"
    }
   },
   "source": [
    "### Is coef_1 related to elevation ?"
   ]
  },
  {
   "cell_type": "code",
   "execution_count": null,
   "metadata": {
    "ExecuteTime": {
     "end_time": "2018-04-26T15:17:56.331766Z",
     "start_time": "2018-04-26T15:17:49.586Z"
    },
    "hide_input": true,
    "scrolled": false,
    "slideshow": {
     "slide_type": "fragment"
    }
   },
   "outputs": [],
   "source": [
    "pdf.plot.scatter(x='elevation',y='avg(%s)'%feature,figsize=(8,6));\n",
    "plt.grid()\n",
    "#plt.xlim([-100,1000])"
   ]
  },
  {
   "cell_type": "code",
   "execution_count": null,
   "metadata": {
    "scrolled": false
   },
   "outputs": [],
   "source": [
    "pdf.plot.scatter(x='latitude',y='avg(%s)'%feature,figsize=(8,6));\n",
    "plt.grid()\n",
    "plt.xlim([40,45.2])"
   ]
  },
  {
   "cell_type": "code",
   "execution_count": null,
   "metadata": {},
   "outputs": [],
   "source": [
    "pdf.plot.scatter(x='elevation',y='latitude',figsize=(8,6));\n",
    "plt.grid()\n",
    "#plt.xlim([0,1000])"
   ]
  },
  {
   "cell_type": "markdown",
   "metadata": {
    "slideshow": {
     "slide_type": "slide"
    }
   },
   "source": [
    "## Summary\n",
    "* We saw how to use `ipyLeaflet` to present data on top of maps.\n",
    "* We saw that in NY state, most of the snow accumulation is in the Adirondacks.\n",
    "* Snow accumulation increases with elevation, but the relationship is weak: locations with elevation 400-600 meters have widely varying accumulations of snow."
   ]
  },
  {
   "cell_type": "markdown",
   "metadata": {
    "slideshow": {
     "slide_type": "slide"
    }
   },
   "source": [
    "## See you next time"
   ]
  }
 ],
 "metadata": {
  "anaconda-cloud": {},
  "celltoolbar": "Slideshow",
  "hide_input": false,
  "kernelspec": {
   "display_name": "Python 3 (ipykernel)",
   "language": "python",
   "name": "python3"
  },
  "language_info": {
   "codemirror_mode": {
    "name": "ipython",
    "version": 3
   },
   "file_extension": ".py",
   "mimetype": "text/x-python",
   "name": "python",
   "nbconvert_exporter": "python",
   "pygments_lexer": "ipython3",
   "version": "3.9.10"
  },
  "toc": {
   "base_numbering": 1,
   "nav_menu": {
    "height": "174px",
    "width": "252px"
   },
   "number_sections": true,
   "sideBar": true,
   "skip_h1_title": false,
   "title_cell": "Table of Contents",
   "title_sidebar": "Contents",
   "toc_cell": false,
   "toc_position": {
    "height": "calc(100% - 180px)",
    "left": "10px",
    "top": "150px",
    "width": "334px"
   },
   "toc_section_display": "block",
   "toc_window_display": false
  },
  "widgets": {
   "state": {},
   "version": "1.0.0"
  }
 },
 "nbformat": 4,
 "nbformat_minor": 4
}
