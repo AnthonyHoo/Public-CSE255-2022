{
 "cells": [
  {
   "cell_type": "code",
   "execution_count": 3,
   "id": "23a64271",
   "metadata": {},
   "outputs": [
    {
     "name": "stdout",
     "output_type": "stream",
     "text": [
      "%pylab is deprecated, use %matplotlib inline and import the required libraries.\n",
      "Populating the interactive namespace from numpy and matplotlib\n"
     ]
    }
   ],
   "source": [
    "import pandas as pd\n",
    "%pylab inline"
   ]
  },
  {
   "cell_type": "code",
   "execution_count": 18,
   "id": "aba4942d",
   "metadata": {},
   "outputs": [
    {
     "name": "stdout",
     "output_type": "stream",
     "text": [
      "4x4MileAquareAroundUCSD.png\r\n"
     ]
    }
   ],
   "source": [
    "!ls *.png"
   ]
  },
  {
   "cell_type": "code",
   "execution_count": 15,
   "id": "db525f0e",
   "metadata": {},
   "outputs": [
    {
     "data": {
      "text/plain": [
       "'/Users/yoavfreund/projects/Poverty_Analysis/Combined'"
      ]
     },
     "execution_count": 15,
     "metadata": {},
     "output_type": "execute_result"
    }
   ],
   "source": [
    "%pwd"
   ]
  },
  {
   "cell_type": "markdown",
   "id": "6ea88033",
   "metadata": {},
   "source": [
    "### Area covered by each images\n",
    "30 meter * 224 = 6.72 KM. = 4.17 mile\n",
    "\n",
    "A 4X4 mile sqaure in san diego is:\n",
    "![4 square miles around UCSD](4x4MileAquareAroundUCSD.png)"
   ]
  },
  {
   "cell_type": "code",
   "execution_count": 19,
   "id": "56f31757",
   "metadata": {},
   "outputs": [
    {
     "data": {
      "text/plain": [
       "'data/train_table.csv'"
      ]
     },
     "execution_count": 19,
     "metadata": {},
     "output_type": "execute_result"
    }
   ],
   "source": [
    "file,=!ls data/*.csv\n",
    "file"
   ]
  },
  {
   "cell_type": "code",
   "execution_count": 43,
   "id": "c4fc8d5a",
   "metadata": {
    "scrolled": true
   },
   "outputs": [
    {
     "data": {
      "text/html": [
       "<div>\n",
       "<style scoped>\n",
       "    .dataframe tbody tr th:only-of-type {\n",
       "        vertical-align: middle;\n",
       "    }\n",
       "\n",
       "    .dataframe tbody tr th {\n",
       "        vertical-align: top;\n",
       "    }\n",
       "\n",
       "    .dataframe thead th {\n",
       "        text-align: right;\n",
       "    }\n",
       "</style>\n",
       "<table border=\"1\" class=\"dataframe\">\n",
       "  <thead>\n",
       "    <tr style=\"text-align: right;\">\n",
       "      <th></th>\n",
       "      <th>country</th>\n",
       "      <th>wealthpooled</th>\n",
       "      <th>urban</th>\n",
       "      <th>rich</th>\n",
       "      <th>nl_mean</th>\n",
       "    </tr>\n",
       "    <tr>\n",
       "      <th>filename</th>\n",
       "      <th></th>\n",
       "      <th></th>\n",
       "      <th></th>\n",
       "      <th></th>\n",
       "      <th></th>\n",
       "    </tr>\n",
       "  </thead>\n",
       "  <tbody>\n",
       "    <tr>\n",
       "      <th>image14864.npz</th>\n",
       "      <td>country1</td>\n",
       "      <td>1.302487</td>\n",
       "      <td>True</td>\n",
       "      <td>1</td>\n",
       "      <td>1.973550</td>\n",
       "    </tr>\n",
       "    <tr>\n",
       "      <th>image10244.npz</th>\n",
       "      <td>country1</td>\n",
       "      <td>1.265691</td>\n",
       "      <td>True</td>\n",
       "      <td>0</td>\n",
       "      <td>2.289603</td>\n",
       "    </tr>\n",
       "    <tr>\n",
       "      <th>image18740.npz</th>\n",
       "      <td>country1</td>\n",
       "      <td>1.478335</td>\n",
       "      <td>True</td>\n",
       "      <td>1</td>\n",
       "      <td>1.526786</td>\n",
       "    </tr>\n",
       "    <tr>\n",
       "      <th>image11650.npz</th>\n",
       "      <td>country1</td>\n",
       "      <td>0.310468</td>\n",
       "      <td>True</td>\n",
       "      <td>0</td>\n",
       "      <td>-0.137359</td>\n",
       "    </tr>\n",
       "    <tr>\n",
       "      <th>image9175.npz</th>\n",
       "      <td>country1</td>\n",
       "      <td>-0.148634</td>\n",
       "      <td>False</td>\n",
       "      <td>1</td>\n",
       "      <td>-0.217544</td>\n",
       "    </tr>\n",
       "  </tbody>\n",
       "</table>\n",
       "</div>"
      ],
      "text/plain": [
       "                 country  wealthpooled  urban  rich   nl_mean\n",
       "filename                                                     \n",
       "image14864.npz  country1      1.302487   True     1  1.973550\n",
       "image10244.npz  country1      1.265691   True     0  2.289603\n",
       "image18740.npz  country1      1.478335   True     1  1.526786\n",
       "image11650.npz  country1      0.310468   True     0 -0.137359\n",
       "image9175.npz   country1     -0.148634  False     1 -0.217544"
      ]
     },
     "execution_count": 43,
     "metadata": {},
     "output_type": "execute_result"
    }
   ],
   "source": [
    "df=pd.read_csv(file,index_col=0)\n",
    "df.head()"
   ]
  },
  {
   "cell_type": "code",
   "execution_count": 39,
   "id": "db552ddc",
   "metadata": {
    "scrolled": true
   },
   "outputs": [],
   "source": [
    "df.to_csv(file,index=None)"
   ]
  },
  {
   "cell_type": "code",
   "execution_count": 36,
   "id": "6bee3f0f",
   "metadata": {},
   "outputs": [
    {
     "data": {
      "text/plain": [
       "((11029, 6), (3607, 6))"
      ]
     },
     "execution_count": 36,
     "metadata": {},
     "output_type": "execute_result"
    }
   ],
   "source": [
    "urban_df=df[df['urban']==True]\n",
    "df.shape,urban_df.shape"
   ]
  },
  {
   "cell_type": "code",
   "execution_count": 37,
   "id": "b22dedfa",
   "metadata": {
    "scrolled": false
   },
   "outputs": [
    {
     "data": {
      "image/png": "[encoded data removed]",
      "text/plain": [
       "<Figure size 432x288 with 1 Axes>"
      ]
     },
     "metadata": {
      "needs_background": "light"
     },
     "output_type": "display_data"
    }
   ],
   "source": [
    "hist(urban_df['wealthpooled'],bins=100);\n",
    "title('Wealth for Urban');\n",
    "grid()"
   ]
  },
  {
   "cell_type": "markdown",
   "id": "91ef9125",
   "metadata": {},
   "source": [
    "Threshold for urban is 1.2"
   ]
  },
  {
   "cell_type": "code",
   "execution_count": 38,
   "id": "2da422d6",
   "metadata": {
    "scrolled": false
   },
   "outputs": [
    {
     "data": {
      "image/png": "[encoded data removed]",
      "text/plain": [
       "<Figure size 432x288 with 1 Axes>"
      ]
     },
     "metadata": {
      "needs_background": "light"
     },
     "output_type": "display_data"
    }
   ],
   "source": [
    "rural_df=df[df['urban']==False]\n",
    "hist(rural_df['wealthpooled'],bins=100);\n",
    "title('Wealth for Rural');\n",
    "grid()"
   ]
  },
  {
   "cell_type": "markdown",
   "id": "caa59d3b",
   "metadata": {},
   "source": [
    "threshold for rural is -0.5"
   ]
  },
  {
   "cell_type": "code",
   "execution_count": 26,
   "id": "bf6ac722",
   "metadata": {},
   "outputs": [
    {
     "data": {
      "text/plain": [
       "Counter({'country1': 746,\n",
       "         'country12': 789,\n",
       "         'country6': 576,\n",
       "         'country7': 341,\n",
       "         'country5': 1193,\n",
       "         'country9': 614,\n",
       "         'country10': 794,\n",
       "         'country4': 1957,\n",
       "         'country11': 879,\n",
       "         'country2': 984,\n",
       "         'country0': 585,\n",
       "         'country8': 778,\n",
       "         'country3': 793})"
      ]
     },
     "execution_count": 26,
     "metadata": {},
     "output_type": "execute_result"
    }
   ],
   "source": [
    "from collections import Counter\n",
    "Counter(df['country'])"
   ]
  },
  {
   "cell_type": "code",
   "execution_count": 27,
   "id": "9c0b895d",
   "metadata": {},
   "outputs": [
    {
     "data": {
      "text/plain": [
       "Counter({True: 3607, False: 7422})"
      ]
     },
     "execution_count": 27,
     "metadata": {},
     "output_type": "execute_result"
    }
   ],
   "source": [
    "Counter(df['urban'])"
   ]
  },
  {
   "cell_type": "code",
   "execution_count": null,
   "id": "20548611",
   "metadata": {},
   "outputs": [],
   "source": []
  },
  {
   "cell_type": "code",
   "execution_count": null,
   "id": "1bf1928c",
   "metadata": {},
   "outputs": [],
   "source": []
  }
 ],
 "metadata": {
  "kernelspec": {
   "display_name": "Python 3 (ipykernel)",
   "language": "python",
   "name": "python3"
  },
  "language_info": {
   "codemirror_mode": {
    "name": "ipython",
    "version": 3
   },
   "file_extension": ".py",
   "mimetype": "text/x-python",
   "name": "python",
   "nbconvert_exporter": "python",
   "pygments_lexer": "ipython3",
   "version": "3.9.12"
  },
  "toc": {
   "base_numbering": 1,
   "nav_menu": {},
   "number_sections": true,
   "sideBar": true,
   "skip_h1_title": false,
   "title_cell": "Table of Contents",
   "title_sidebar": "Contents",
   "toc_cell": false,
   "toc_position": {},
   "toc_section_display": true,
   "toc_window_display": false
  }
 },
 "nbformat": 4,
 "nbformat_minor": 5
}
